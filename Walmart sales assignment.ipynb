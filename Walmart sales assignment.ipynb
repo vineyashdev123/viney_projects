{
 "cells": [
  {
   "cell_type": "code",
   "execution_count": 42,
   "id": "c05eb628",
   "metadata": {},
   "outputs": [],
   "source": [
    "import pandas as pd\n",
    "import numpy as np\n",
    "import seaborn as sns\n",
    "import matplotlib.pyplot as plt\n"
   ]
  },
  {
   "cell_type": "code",
   "execution_count": 2,
   "id": "380ee98d",
   "metadata": {},
   "outputs": [],
   "source": [
    "df = pd.read_excel('/Users/viney/Downloads/Walmart Sales.xlsx')"
   ]
  },
  {
   "cell_type": "code",
   "execution_count": 55,
   "id": "c8fae828",
   "metadata": {},
   "outputs": [
    {
     "data": {
      "text/plain": [
       "Index(['Invoice ID', 'Branch', 'City', 'Customer type', 'Gender',\n",
       "       'Product line', 'Unit price', 'Quantity', 'Date', 'Time', 'Payment',\n",
       "       'Rating', 'Revenue'],\n",
       "      dtype='object')"
      ]
     },
     "execution_count": 55,
     "metadata": {},
     "output_type": "execute_result"
    }
   ],
   "source": [
    "df.columns"
   ]
  },
  {
   "cell_type": "code",
   "execution_count": 4,
   "id": "9b5b84ec",
   "metadata": {},
   "outputs": [],
   "source": [
    "# adding new column of Revenue \n",
    "df['Revenue'] = df['Unit price'] * df['Quantity']"
   ]
  },
  {
   "cell_type": "code",
   "execution_count": 6,
   "id": "35080595",
   "metadata": {},
   "outputs": [
    {
     "data": {
      "text/plain": [
       "array(['A', 'B', 'C'], dtype=object)"
      ]
     },
     "execution_count": 6,
     "metadata": {},
     "output_type": "execute_result"
    }
   ],
   "source": [
    "df['Branch'].unique()"
   ]
  },
  {
   "cell_type": "code",
   "execution_count": 7,
   "id": "8cc64fcd",
   "metadata": {},
   "outputs": [],
   "source": [
    "# I've divided original table into 3 parts having 3 unique Brances using 3 differnt approaches."
   ]
  },
  {
   "cell_type": "code",
   "execution_count": 8,
   "id": "5d6f8431",
   "metadata": {},
   "outputs": [],
   "source": [
    "dfa = df.where(df['Branch'] == 'A')"
   ]
  },
  {
   "cell_type": "code",
   "execution_count": 9,
   "id": "4ea1a596",
   "metadata": {},
   "outputs": [],
   "source": [
    "dfa.dropna(inplace=True)"
   ]
  },
  {
   "cell_type": "code",
   "execution_count": 10,
   "id": "40e2f7d0",
   "metadata": {},
   "outputs": [],
   "source": [
    "dfb = df[df['Branch']=='B']"
   ]
  },
  {
   "cell_type": "code",
   "execution_count": 11,
   "id": "983b3b91",
   "metadata": {},
   "outputs": [],
   "source": [
    "dfc = df[df['Branch'].isin(['C'])]"
   ]
  },
  {
   "cell_type": "code",
   "execution_count": 32,
   "id": "feaa8bd3",
   "metadata": {},
   "outputs": [
    {
     "data": {
      "text/plain": [
       "96257.19"
      ]
     },
     "execution_count": 32,
     "metadata": {},
     "output_type": "execute_result"
    }
   ],
   "source": [
    "#total revenue by branch C\n",
    "dfc['Revenue'].sum()"
   ]
  },
  {
   "cell_type": "code",
   "execution_count": 33,
   "id": "9b146e31",
   "metadata": {},
   "outputs": [
    {
     "data": {
      "text/plain": [
       "107567.19"
      ]
     },
     "execution_count": 33,
     "metadata": {},
     "output_type": "execute_result"
    }
   ],
   "source": [
    "#total revenue by branch B\n",
    "dfb['Revenue'].sum()"
   ]
  },
  {
   "cell_type": "code",
   "execution_count": 34,
   "id": "ae56c200",
   "metadata": {},
   "outputs": [
    {
     "data": {
      "text/plain": [
       "103763.0"
      ]
     },
     "execution_count": 34,
     "metadata": {},
     "output_type": "execute_result"
    }
   ],
   "source": [
    "#total revenue by branch A\n",
    "dfa['Revenue'].sum()"
   ]
  },
  {
   "cell_type": "code",
   "execution_count": 28,
   "id": "32572d3b",
   "metadata": {},
   "outputs": [],
   "source": [
    "City_grp = df.groupby(['City'])"
   ]
  },
  {
   "cell_type": "markdown",
   "id": "be78c2be",
   "metadata": {},
   "source": [
    "# Analysis of sales and revenue at the city and branch level"
   ]
  },
  {
   "cell_type": "code",
   "execution_count": 81,
   "id": "20a13789",
   "metadata": {},
   "outputs": [
    {
     "data": {
      "text/plain": [
       "City\n",
       "Mandalay     637.0\n",
       "Naypyitaw    648.0\n",
       "Yangon       598.0\n",
       "Name: Quantity, dtype: float64"
      ]
     },
     "execution_count": 81,
     "metadata": {},
     "output_type": "execute_result"
    }
   ],
   "source": [
    "#total revnue by branch A in different cities\n",
    "dfa.groupby('City')['Revenue'].sum()\n"
   ]
  },
  {
   "cell_type": "code",
   "execution_count": 82,
   "id": "da68b0a8",
   "metadata": {},
   "outputs": [
    {
     "data": {
      "text/plain": [
       "City\n",
       "Mandalay     637.0\n",
       "Naypyitaw    648.0\n",
       "Yangon       598.0\n",
       "Name: Quantity, dtype: float64"
      ]
     },
     "execution_count": 82,
     "metadata": {},
     "output_type": "execute_result"
    }
   ],
   "source": [
    "#total sales by branch A in different cities\n",
    "dfa.groupby('City')['Quantity'].sum()"
   ]
  },
  {
   "cell_type": "code",
   "execution_count": 79,
   "id": "fdab4e10",
   "metadata": {},
   "outputs": [
    {
     "data": {
      "text/plain": [
       "City\n",
       "Mandalay     37215.93\n",
       "Naypyitaw    35157.75\n",
       "Yangon       35193.51\n",
       "Name: Revenue, dtype: float64"
      ]
     },
     "execution_count": 79,
     "metadata": {},
     "output_type": "execute_result"
    }
   ],
   "source": [
    "#total revnue by branch B in different cities\n",
    "dfb.groupby('City')['Revenue'].sum()\n"
   ]
  },
  {
   "cell_type": "code",
   "execution_count": 83,
   "id": "e19f265b",
   "metadata": {},
   "outputs": [
    {
     "data": {
      "text/plain": [
       "City\n",
       "Mandalay     637.0\n",
       "Naypyitaw    648.0\n",
       "Yangon       598.0\n",
       "Name: Quantity, dtype: float64"
      ]
     },
     "execution_count": 83,
     "metadata": {},
     "output_type": "execute_result"
    }
   ],
   "source": [
    "#total sales by branch B in different cities\n",
    "dfa.groupby('City')['Quantity'].sum()"
   ]
  },
  {
   "cell_type": "code",
   "execution_count": 39,
   "id": "f8aa5901",
   "metadata": {},
   "outputs": [
    {
     "data": {
      "text/plain": [
       "City\n",
       "Mandalay     29794.62\n",
       "Naypyitaw    34160.14\n",
       "Yangon       32302.43\n",
       "Name: Revenue, dtype: float64"
      ]
     },
     "execution_count": 39,
     "metadata": {},
     "output_type": "execute_result"
    }
   ],
   "source": [
    "#total revnue by branch C in different cities\n",
    "dfb.groupby('City')['Revenue'].sum()"
   ]
  },
  {
   "cell_type": "code",
   "execution_count": 84,
   "id": "b424b1df",
   "metadata": {},
   "outputs": [
    {
     "data": {
      "text/plain": [
       "City\n",
       "Mandalay     519\n",
       "Naypyitaw    579\n",
       "Yangon       630\n",
       "Name: Quantity, dtype: int64"
      ]
     },
     "execution_count": 84,
     "metadata": {},
     "output_type": "execute_result"
    }
   ],
   "source": [
    "#total sales by branch C in different cities\n",
    "dfc.groupby('City')['Quantity'].sum()"
   ]
  },
  {
   "cell_type": "code",
   "execution_count": 41,
   "id": "3061c2f7",
   "metadata": {},
   "outputs": [
    {
     "data": {
      "text/plain": [
       "City\n",
       "Mandalay     101140.64\n",
       "Naypyitaw    105303.53\n",
       "Yangon       101143.21\n",
       "Name: Revenue, dtype: float64"
      ]
     },
     "execution_count": 41,
     "metadata": {},
     "output_type": "execute_result"
    }
   ],
   "source": [
    "#total revnue in different cities\n",
    "df.groupby('City')['Revenue'].sum()"
   ]
  },
  {
   "cell_type": "code",
   "execution_count": 56,
   "id": "003a872c",
   "metadata": {},
   "outputs": [],
   "source": [
    "city_branch_revenue = df.groupby(['City', 'Branch'])['Revenue'].sum()"
   ]
  },
  {
   "cell_type": "code",
   "execution_count": 57,
   "id": "af8988ba",
   "metadata": {},
   "outputs": [
    {
     "data": {
      "image/png": "[encoded data removed]",
      "text/plain": [
       "<Figure size 1200x600 with 1 Axes>"
      ]
     },
     "metadata": {},
     "output_type": "display_data"
    }
   ],
   "source": [
    "plt.figure(figsize=(12, 6))\n",
    "city_branch_revenue.plot(kind='bar', x='Branch', y='Revenue', figsize=(12, 6), legend=False)\n",
    "plt.title('Revenue from Each City with Branches')\n",
    "plt.xlabel('City - Branch')\n",
    "plt.ylabel('Revenue')\n",
    "plt.xticks(rotation=45, ha='right')  # Rotate x-axis labels for better visibility\n",
    "plt.tight_layout()\n",
    "plt.show()"
   ]
  },
  {
   "cell_type": "code",
   "execution_count": 106,
   "id": "b43f28f5",
   "metadata": {},
   "outputs": [
    {
     "data": {
      "text/html": [
       "<div>\n",
       "<style scoped>\n",
       "    .dataframe tbody tr th:only-of-type {\n",
       "        vertical-align: middle;\n",
       "    }\n",
       "\n",
       "    .dataframe tbody tr th {\n",
       "        vertical-align: top;\n",
       "    }\n",
       "\n",
       "    .dataframe thead th {\n",
       "        text-align: right;\n",
       "    }\n",
       "</style>\n",
       "<table border=\"1\" class=\"dataframe\">\n",
       "  <thead>\n",
       "    <tr style=\"text-align: right;\">\n",
       "      <th></th>\n",
       "      <th>Invoice ID</th>\n",
       "      <th>Branch</th>\n",
       "      <th>City</th>\n",
       "      <th>Customer type</th>\n",
       "      <th>Gender</th>\n",
       "      <th>Product line</th>\n",
       "      <th>Unit price</th>\n",
       "      <th>Quantity</th>\n",
       "      <th>Time</th>\n",
       "      <th>Payment</th>\n",
       "      <th>Rating</th>\n",
       "      <th>Revenue</th>\n",
       "      <th>Date</th>\n",
       "      <th>Month</th>\n",
       "    </tr>\n",
       "  </thead>\n",
       "  <tbody>\n",
       "    <tr>\n",
       "      <th>0</th>\n",
       "      <td>750-67-8428</td>\n",
       "      <td>A</td>\n",
       "      <td>Yangon</td>\n",
       "      <td>Member</td>\n",
       "      <td>Female</td>\n",
       "      <td>Health and beauty</td>\n",
       "      <td>74.69</td>\n",
       "      <td>7</td>\n",
       "      <td>13:08:00</td>\n",
       "      <td>Ewallet</td>\n",
       "      <td>9.1</td>\n",
       "      <td>522.83</td>\n",
       "      <td>2019-01-05</td>\n",
       "      <td>1</td>\n",
       "    </tr>\n",
       "    <tr>\n",
       "      <th>1</th>\n",
       "      <td>226-31-3081</td>\n",
       "      <td>A</td>\n",
       "      <td>Naypyitaw</td>\n",
       "      <td>Normal</td>\n",
       "      <td>Female</td>\n",
       "      <td>Electronic accessories</td>\n",
       "      <td>15.28</td>\n",
       "      <td>5</td>\n",
       "      <td>10:29:00</td>\n",
       "      <td>Cash</td>\n",
       "      <td>9.6</td>\n",
       "      <td>76.40</td>\n",
       "      <td>2019-03-08</td>\n",
       "      <td>3</td>\n",
       "    </tr>\n",
       "    <tr>\n",
       "      <th>2</th>\n",
       "      <td>631-41-3108</td>\n",
       "      <td>A</td>\n",
       "      <td>Yangon</td>\n",
       "      <td>Normal</td>\n",
       "      <td>Male</td>\n",
       "      <td>Home and lifestyle</td>\n",
       "      <td>46.33</td>\n",
       "      <td>7</td>\n",
       "      <td>13:23:00</td>\n",
       "      <td>Credit card</td>\n",
       "      <td>7.4</td>\n",
       "      <td>324.31</td>\n",
       "      <td>2019-03-03</td>\n",
       "      <td>3</td>\n",
       "    </tr>\n",
       "    <tr>\n",
       "      <th>3</th>\n",
       "      <td>123-19-1176</td>\n",
       "      <td>B</td>\n",
       "      <td>Yangon</td>\n",
       "      <td>Member</td>\n",
       "      <td>Male</td>\n",
       "      <td>Health and beauty</td>\n",
       "      <td>58.22</td>\n",
       "      <td>8</td>\n",
       "      <td>20:33:00</td>\n",
       "      <td>Ewallet</td>\n",
       "      <td>8.4</td>\n",
       "      <td>465.76</td>\n",
       "      <td>2019-01-27</td>\n",
       "      <td>1</td>\n",
       "    </tr>\n",
       "    <tr>\n",
       "      <th>4</th>\n",
       "      <td>373-73-7910</td>\n",
       "      <td>C</td>\n",
       "      <td>Yangon</td>\n",
       "      <td>Normal</td>\n",
       "      <td>Male</td>\n",
       "      <td>Sports and travel</td>\n",
       "      <td>86.31</td>\n",
       "      <td>7</td>\n",
       "      <td>10:37:00</td>\n",
       "      <td>Ewallet</td>\n",
       "      <td>5.3</td>\n",
       "      <td>604.17</td>\n",
       "      <td>2019-02-08</td>\n",
       "      <td>2</td>\n",
       "    </tr>\n",
       "    <tr>\n",
       "      <th>...</th>\n",
       "      <td>...</td>\n",
       "      <td>...</td>\n",
       "      <td>...</td>\n",
       "      <td>...</td>\n",
       "      <td>...</td>\n",
       "      <td>...</td>\n",
       "      <td>...</td>\n",
       "      <td>...</td>\n",
       "      <td>...</td>\n",
       "      <td>...</td>\n",
       "      <td>...</td>\n",
       "      <td>...</td>\n",
       "      <td>...</td>\n",
       "      <td>...</td>\n",
       "    </tr>\n",
       "    <tr>\n",
       "      <th>995</th>\n",
       "      <td>233-67-5758</td>\n",
       "      <td>A</td>\n",
       "      <td>Naypyitaw</td>\n",
       "      <td>Normal</td>\n",
       "      <td>Male</td>\n",
       "      <td>Health and beauty</td>\n",
       "      <td>40.35</td>\n",
       "      <td>1</td>\n",
       "      <td>13:46:00</td>\n",
       "      <td>Ewallet</td>\n",
       "      <td>6.2</td>\n",
       "      <td>40.35</td>\n",
       "      <td>2019-01-29</td>\n",
       "      <td>1</td>\n",
       "    </tr>\n",
       "    <tr>\n",
       "      <th>996</th>\n",
       "      <td>303-96-2227</td>\n",
       "      <td>A</td>\n",
       "      <td>Mandalay</td>\n",
       "      <td>Normal</td>\n",
       "      <td>Female</td>\n",
       "      <td>Home and lifestyle</td>\n",
       "      <td>97.38</td>\n",
       "      <td>10</td>\n",
       "      <td>17:16:00</td>\n",
       "      <td>Ewallet</td>\n",
       "      <td>4.4</td>\n",
       "      <td>973.80</td>\n",
       "      <td>2019-03-02</td>\n",
       "      <td>3</td>\n",
       "    </tr>\n",
       "    <tr>\n",
       "      <th>997</th>\n",
       "      <td>727-02-1313</td>\n",
       "      <td>A</td>\n",
       "      <td>Yangon</td>\n",
       "      <td>Member</td>\n",
       "      <td>Male</td>\n",
       "      <td>Food and beverages</td>\n",
       "      <td>31.84</td>\n",
       "      <td>1</td>\n",
       "      <td>13:22:00</td>\n",
       "      <td>Cash</td>\n",
       "      <td>7.7</td>\n",
       "      <td>31.84</td>\n",
       "      <td>2019-02-09</td>\n",
       "      <td>2</td>\n",
       "    </tr>\n",
       "    <tr>\n",
       "      <th>998</th>\n",
       "      <td>347-56-2442</td>\n",
       "      <td>B</td>\n",
       "      <td>Yangon</td>\n",
       "      <td>Normal</td>\n",
       "      <td>Male</td>\n",
       "      <td>Home and lifestyle</td>\n",
       "      <td>65.82</td>\n",
       "      <td>1</td>\n",
       "      <td>15:33:00</td>\n",
       "      <td>Cash</td>\n",
       "      <td>4.1</td>\n",
       "      <td>65.82</td>\n",
       "      <td>2019-02-22</td>\n",
       "      <td>2</td>\n",
       "    </tr>\n",
       "    <tr>\n",
       "      <th>999</th>\n",
       "      <td>849-09-3807</td>\n",
       "      <td>C</td>\n",
       "      <td>Yangon</td>\n",
       "      <td>Member</td>\n",
       "      <td>Female</td>\n",
       "      <td>Fashion accessories</td>\n",
       "      <td>88.34</td>\n",
       "      <td>7</td>\n",
       "      <td>13:28:00</td>\n",
       "      <td>Cash</td>\n",
       "      <td>6.6</td>\n",
       "      <td>618.38</td>\n",
       "      <td>2019-02-18</td>\n",
       "      <td>2</td>\n",
       "    </tr>\n",
       "  </tbody>\n",
       "</table>\n",
       "<p>1000 rows × 14 columns</p>\n",
       "</div>"
      ],
      "text/plain": [
       "      Invoice ID Branch       City Customer type  Gender  \\\n",
       "0    750-67-8428      A     Yangon        Member  Female   \n",
       "1    226-31-3081      A  Naypyitaw        Normal  Female   \n",
       "2    631-41-3108      A     Yangon        Normal    Male   \n",
       "3    123-19-1176      B     Yangon        Member    Male   \n",
       "4    373-73-7910      C     Yangon        Normal    Male   \n",
       "..           ...    ...        ...           ...     ...   \n",
       "995  233-67-5758      A  Naypyitaw        Normal    Male   \n",
       "996  303-96-2227      A   Mandalay        Normal  Female   \n",
       "997  727-02-1313      A     Yangon        Member    Male   \n",
       "998  347-56-2442      B     Yangon        Normal    Male   \n",
       "999  849-09-3807      C     Yangon        Member  Female   \n",
       "\n",
       "               Product line  Unit price  Quantity      Time      Payment  \\\n",
       "0         Health and beauty       74.69         7  13:08:00      Ewallet   \n",
       "1    Electronic accessories       15.28         5  10:29:00         Cash   \n",
       "2        Home and lifestyle       46.33         7  13:23:00  Credit card   \n",
       "3         Health and beauty       58.22         8  20:33:00      Ewallet   \n",
       "4         Sports and travel       86.31         7  10:37:00      Ewallet   \n",
       "..                      ...         ...       ...       ...          ...   \n",
       "995       Health and beauty       40.35         1  13:46:00      Ewallet   \n",
       "996      Home and lifestyle       97.38        10  17:16:00      Ewallet   \n",
       "997      Food and beverages       31.84         1  13:22:00         Cash   \n",
       "998      Home and lifestyle       65.82         1  15:33:00         Cash   \n",
       "999     Fashion accessories       88.34         7  13:28:00         Cash   \n",
       "\n",
       "     Rating  Revenue       Date  Month  \n",
       "0       9.1   522.83 2019-01-05      1  \n",
       "1       9.6    76.40 2019-03-08      3  \n",
       "2       7.4   324.31 2019-03-03      3  \n",
       "3       8.4   465.76 2019-01-27      1  \n",
       "4       5.3   604.17 2019-02-08      2  \n",
       "..      ...      ...        ...    ...  \n",
       "995     6.2    40.35 2019-01-29      1  \n",
       "996     4.4   973.80 2019-03-02      3  \n",
       "997     7.7    31.84 2019-02-09      2  \n",
       "998     4.1    65.82 2019-02-22      2  \n",
       "999     6.6   618.38 2019-02-18      2  \n",
       "\n",
       "[1000 rows x 14 columns]"
      ]
     },
     "execution_count": 106,
     "metadata": {},
     "output_type": "execute_result"
    }
   ],
   "source": [
    "df"
   ]
  },
  {
   "cell_type": "markdown",
   "id": "db8da343",
   "metadata": {},
   "source": [
    "# What is the average price of an item sold at each branch of the city"
   ]
  },
  {
   "cell_type": "code",
   "execution_count": 72,
   "id": "242e9740",
   "metadata": {},
   "outputs": [
    {
     "data": {
      "text/plain": [
       "City\n",
       "Mandalay     53.353866\n",
       "Naypyitaw    54.123182\n",
       "Yangon       55.639298\n",
       "Name: Unit price, dtype: float64"
      ]
     },
     "execution_count": 72,
     "metadata": {},
     "output_type": "execute_result"
    }
   ],
   "source": [
    "dfa.groupby('City')['Unit price'].mean()"
   ]
  },
  {
   "cell_type": "code",
   "execution_count": 73,
   "id": "deed3868",
   "metadata": {},
   "outputs": [
    {
     "data": {
      "text/plain": [
       "City\n",
       "Mandalay     56.133305\n",
       "Naypyitaw    57.785688\n",
       "Yangon       56.011062\n",
       "Name: Unit price, dtype: float64"
      ]
     },
     "execution_count": 73,
     "metadata": {},
     "output_type": "execute_result"
    }
   ],
   "source": [
    "dfb.groupby('City')['Unit price'].mean()"
   ]
  },
  {
   "cell_type": "code",
   "execution_count": 74,
   "id": "d3bd05ee",
   "metadata": {},
   "outputs": [
    {
     "data": {
      "text/plain": [
       "City\n",
       "Mandalay     57.958316\n",
       "Naypyitaw    57.941009\n",
       "Yangon       52.684602\n",
       "Name: Unit price, dtype: float64"
      ]
     },
     "execution_count": 74,
     "metadata": {},
     "output_type": "execute_result"
    }
   ],
   "source": [
    "dfc.groupby('City')['Unit price'].mean()"
   ]
  },
  {
   "cell_type": "markdown",
   "id": "bdbd9c38",
   "metadata": {},
   "source": [
    "# Performance of sales and revenue, Month over Month across the Product Line, Gender, and Payment Method"
   ]
  },
  {
   "cell_type": "code",
   "execution_count": 103,
   "id": "cbe42857",
   "metadata": {},
   "outputs": [
    {
     "data": {
      "text/plain": [
       "Invoice ID               object\n",
       "Branch                   object\n",
       "City                     object\n",
       "Customer type            object\n",
       "Gender                   object\n",
       "Product line             object\n",
       "Unit price              float64\n",
       "Quantity                  int64\n",
       "Time                     object\n",
       "Payment                  object\n",
       "Rating                  float64\n",
       "Revenue                 float64\n",
       "Date             datetime64[ns]\n",
       "dtype: object"
      ]
     },
     "execution_count": 103,
     "metadata": {},
     "output_type": "execute_result"
    }
   ],
   "source": [
    "df.dtypes"
   ]
  },
  {
   "cell_type": "code",
   "execution_count": 87,
   "id": "a0128810",
   "metadata": {},
   "outputs": [],
   "source": [
    "df['date'] = pd.to_datetime(df['Date'])"
   ]
  },
  {
   "cell_type": "code",
   "execution_count": 93,
   "id": "ebd7e67a",
   "metadata": {},
   "outputs": [],
   "source": [
    "df.drop(columns=['Date'],inplace=True)"
   ]
  },
  {
   "cell_type": "code",
   "execution_count": 105,
   "id": "a1c3e3c5",
   "metadata": {},
   "outputs": [],
   "source": [
    "df['Month'] = df['Date'].dt.month"
   ]
  },
  {
   "cell_type": "code",
   "execution_count": 101,
   "id": "dc321271",
   "metadata": {},
   "outputs": [],
   "source": [
    "df.rename(columns={'date':'Date'},inplace=True)"
   ]
  },
  {
   "cell_type": "code",
   "execution_count": 164,
   "id": "8cf01fd5",
   "metadata": {},
   "outputs": [],
   "source": [
    "grouped_df = df.groupby(['Month', 'Gender', 'Payment']).agg({'Quantity': 'sum', 'Revenue': 'sum'})"
   ]
  },
  {
   "cell_type": "code",
   "execution_count": 165,
   "id": "1a4e7395",
   "metadata": {
    "scrolled": true
   },
   "outputs": [
    {
     "data": {
      "text/html": [
       "<div>\n",
       "<style scoped>\n",
       "    .dataframe tbody tr th:only-of-type {\n",
       "        vertical-align: middle;\n",
       "    }\n",
       "\n",
       "    .dataframe tbody tr th {\n",
       "        vertical-align: top;\n",
       "    }\n",
       "\n",
       "    .dataframe thead th {\n",
       "        text-align: right;\n",
       "    }\n",
       "</style>\n",
       "<table border=\"1\" class=\"dataframe\">\n",
       "  <thead>\n",
       "    <tr style=\"text-align: right;\">\n",
       "      <th></th>\n",
       "      <th></th>\n",
       "      <th></th>\n",
       "      <th>Quantity</th>\n",
       "      <th>Revenue</th>\n",
       "    </tr>\n",
       "    <tr>\n",
       "      <th>Month</th>\n",
       "      <th>Gender</th>\n",
       "      <th>Payment</th>\n",
       "      <th></th>\n",
       "      <th></th>\n",
       "    </tr>\n",
       "  </thead>\n",
       "  <tbody>\n",
       "    <tr>\n",
       "      <th rowspan=\"6\" valign=\"top\">1</th>\n",
       "      <th rowspan=\"3\" valign=\"top\">Female</th>\n",
       "      <th>Cash</th>\n",
       "      <td>395</td>\n",
       "      <td>21477.68</td>\n",
       "    </tr>\n",
       "    <tr>\n",
       "      <th>Credit card</th>\n",
       "      <td>327</td>\n",
       "      <td>18733.30</td>\n",
       "    </tr>\n",
       "    <tr>\n",
       "      <th>Ewallet</th>\n",
       "      <td>297</td>\n",
       "      <td>16111.86</td>\n",
       "    </tr>\n",
       "    <tr>\n",
       "      <th rowspan=\"3\" valign=\"top\">Male</th>\n",
       "      <th>Cash</th>\n",
       "      <td>313</td>\n",
       "      <td>18303.35</td>\n",
       "    </tr>\n",
       "    <tr>\n",
       "      <th>Credit card</th>\n",
       "      <td>295</td>\n",
       "      <td>17692.01</td>\n",
       "    </tr>\n",
       "    <tr>\n",
       "      <th>Ewallet</th>\n",
       "      <td>338</td>\n",
       "      <td>18435.96</td>\n",
       "    </tr>\n",
       "    <tr>\n",
       "      <th rowspan=\"6\" valign=\"top\">2</th>\n",
       "      <th rowspan=\"3\" valign=\"top\">Female</th>\n",
       "      <th>Cash</th>\n",
       "      <td>376</td>\n",
       "      <td>21293.52</td>\n",
       "    </tr>\n",
       "    <tr>\n",
       "      <th>Credit card</th>\n",
       "      <td>280</td>\n",
       "      <td>16088.60</td>\n",
       "    </tr>\n",
       "    <tr>\n",
       "      <th>Ewallet</th>\n",
       "      <td>295</td>\n",
       "      <td>16270.79</td>\n",
       "    </tr>\n",
       "    <tr>\n",
       "      <th rowspan=\"3\" valign=\"top\">Male</th>\n",
       "      <th>Cash</th>\n",
       "      <td>220</td>\n",
       "      <td>12750.61</td>\n",
       "    </tr>\n",
       "    <tr>\n",
       "      <th>Credit card</th>\n",
       "      <td>225</td>\n",
       "      <td>13778.09</td>\n",
       "    </tr>\n",
       "    <tr>\n",
       "      <th>Ewallet</th>\n",
       "      <td>258</td>\n",
       "      <td>12408.27</td>\n",
       "    </tr>\n",
       "    <tr>\n",
       "      <th rowspan=\"6\" valign=\"top\">3</th>\n",
       "      <th rowspan=\"3\" valign=\"top\">Female</th>\n",
       "      <th>Cash</th>\n",
       "      <td>233</td>\n",
       "      <td>13909.00</td>\n",
       "    </tr>\n",
       "    <tr>\n",
       "      <th>Credit card</th>\n",
       "      <td>321</td>\n",
       "      <td>16129.00</td>\n",
       "    </tr>\n",
       "    <tr>\n",
       "      <th>Ewallet</th>\n",
       "      <td>345</td>\n",
       "      <td>19874.75</td>\n",
       "    </tr>\n",
       "    <tr>\n",
       "      <th rowspan=\"3\" valign=\"top\">Male</th>\n",
       "      <th>Cash</th>\n",
       "      <td>359</td>\n",
       "      <td>19129.24</td>\n",
       "    </tr>\n",
       "    <tr>\n",
       "      <th>Credit card</th>\n",
       "      <td>274</td>\n",
       "      <td>13547.64</td>\n",
       "    </tr>\n",
       "    <tr>\n",
       "      <th>Ewallet</th>\n",
       "      <td>359</td>\n",
       "      <td>21653.71</td>\n",
       "    </tr>\n",
       "  </tbody>\n",
       "</table>\n",
       "</div>"
      ],
      "text/plain": [
       "                          Quantity   Revenue\n",
       "Month Gender Payment                        \n",
       "1     Female Cash              395  21477.68\n",
       "             Credit card       327  18733.30\n",
       "             Ewallet           297  16111.86\n",
       "      Male   Cash              313  18303.35\n",
       "             Credit card       295  17692.01\n",
       "             Ewallet           338  18435.96\n",
       "2     Female Cash              376  21293.52\n",
       "             Credit card       280  16088.60\n",
       "             Ewallet           295  16270.79\n",
       "      Male   Cash              220  12750.61\n",
       "             Credit card       225  13778.09\n",
       "             Ewallet           258  12408.27\n",
       "3     Female Cash              233  13909.00\n",
       "             Credit card       321  16129.00\n",
       "             Ewallet           345  19874.75\n",
       "      Male   Cash              359  19129.24\n",
       "             Credit card       274  13547.64\n",
       "             Ewallet           359  21653.71"
      ]
     },
     "execution_count": 165,
     "metadata": {},
     "output_type": "execute_result"
    }
   ],
   "source": [
    "grouped_df"
   ]
  },
  {
   "cell_type": "code",
   "execution_count": 122,
   "id": "30b85535",
   "metadata": {},
   "outputs": [],
   "source": [
    "grouped_df_month = df.groupby(['Month','Product line'])"
   ]
  },
  {
   "cell_type": "code",
   "execution_count": 167,
   "id": "df36a4ce",
   "metadata": {},
   "outputs": [],
   "source": [
    "a = grouped_df_month['Revenue'].sum()\n",
    "b = grouped_df_month['Quantity'].sum()\n",
    "result1 = pd.concat([a, b], axis=1)"
   ]
  },
  {
   "cell_type": "code",
   "execution_count": 168,
   "id": "5900d2c2",
   "metadata": {},
   "outputs": [
    {
     "data": {
      "text/html": [
       "<div>\n",
       "<style scoped>\n",
       "    .dataframe tbody tr th:only-of-type {\n",
       "        vertical-align: middle;\n",
       "    }\n",
       "\n",
       "    .dataframe tbody tr th {\n",
       "        vertical-align: top;\n",
       "    }\n",
       "\n",
       "    .dataframe thead th {\n",
       "        text-align: right;\n",
       "    }\n",
       "</style>\n",
       "<table border=\"1\" class=\"dataframe\">\n",
       "  <thead>\n",
       "    <tr style=\"text-align: right;\">\n",
       "      <th></th>\n",
       "      <th></th>\n",
       "      <th>Revenue</th>\n",
       "      <th>Quantity</th>\n",
       "    </tr>\n",
       "    <tr>\n",
       "      <th>Month</th>\n",
       "      <th>Product line</th>\n",
       "      <th></th>\n",
       "      <th></th>\n",
       "    </tr>\n",
       "  </thead>\n",
       "  <tbody>\n",
       "    <tr>\n",
       "      <th rowspan=\"6\" valign=\"top\">1</th>\n",
       "      <th>Electronic accessories</th>\n",
       "      <td>17934.56</td>\n",
       "      <td>333</td>\n",
       "    </tr>\n",
       "    <tr>\n",
       "      <th>Fashion accessories</th>\n",
       "      <td>18423.92</td>\n",
       "      <td>336</td>\n",
       "    </tr>\n",
       "    <tr>\n",
       "      <th>Food and beverages</th>\n",
       "      <td>18638.60</td>\n",
       "      <td>325</td>\n",
       "    </tr>\n",
       "    <tr>\n",
       "      <th>Health and beauty</th>\n",
       "      <td>15603.02</td>\n",
       "      <td>254</td>\n",
       "    </tr>\n",
       "    <tr>\n",
       "      <th>Home and lifestyle</th>\n",
       "      <td>19518.80</td>\n",
       "      <td>342</td>\n",
       "    </tr>\n",
       "    <tr>\n",
       "      <th>Sports and travel</th>\n",
       "      <td>20635.26</td>\n",
       "      <td>375</td>\n",
       "    </tr>\n",
       "    <tr>\n",
       "      <th rowspan=\"6\" valign=\"top\">2</th>\n",
       "      <th>Electronic accessories</th>\n",
       "      <td>16536.10</td>\n",
       "      <td>313</td>\n",
       "    </tr>\n",
       "    <tr>\n",
       "      <th>Fashion accessories</th>\n",
       "      <td>18104.63</td>\n",
       "      <td>295</td>\n",
       "    </tr>\n",
       "    <tr>\n",
       "      <th>Food and beverages</th>\n",
       "      <td>19047.96</td>\n",
       "      <td>349</td>\n",
       "    </tr>\n",
       "    <tr>\n",
       "      <th>Health and beauty</th>\n",
       "      <td>13906.91</td>\n",
       "      <td>266</td>\n",
       "    </tr>\n",
       "    <tr>\n",
       "      <th>Home and lifestyle</th>\n",
       "      <td>11842.27</td>\n",
       "      <td>205</td>\n",
       "    </tr>\n",
       "    <tr>\n",
       "      <th>Sports and travel</th>\n",
       "      <td>13152.01</td>\n",
       "      <td>226</td>\n",
       "    </tr>\n",
       "    <tr>\n",
       "      <th rowspan=\"6\" valign=\"top\">3</th>\n",
       "      <th>Electronic accessories</th>\n",
       "      <td>17279.37</td>\n",
       "      <td>325</td>\n",
       "    </tr>\n",
       "    <tr>\n",
       "      <th>Fashion accessories</th>\n",
       "      <td>15191.35</td>\n",
       "      <td>271</td>\n",
       "    </tr>\n",
       "    <tr>\n",
       "      <th>Food and beverages</th>\n",
       "      <td>15784.72</td>\n",
       "      <td>278</td>\n",
       "    </tr>\n",
       "    <tr>\n",
       "      <th>Health and beauty</th>\n",
       "      <td>17341.25</td>\n",
       "      <td>334</td>\n",
       "    </tr>\n",
       "    <tr>\n",
       "      <th>Home and lifestyle</th>\n",
       "      <td>19935.99</td>\n",
       "      <td>364</td>\n",
       "    </tr>\n",
       "    <tr>\n",
       "      <th>Sports and travel</th>\n",
       "      <td>18710.66</td>\n",
       "      <td>319</td>\n",
       "    </tr>\n",
       "  </tbody>\n",
       "</table>\n",
       "</div>"
      ],
      "text/plain": [
       "                               Revenue  Quantity\n",
       "Month Product line                              \n",
       "1     Electronic accessories  17934.56       333\n",
       "      Fashion accessories     18423.92       336\n",
       "      Food and beverages      18638.60       325\n",
       "      Health and beauty       15603.02       254\n",
       "      Home and lifestyle      19518.80       342\n",
       "      Sports and travel       20635.26       375\n",
       "2     Electronic accessories  16536.10       313\n",
       "      Fashion accessories     18104.63       295\n",
       "      Food and beverages      19047.96       349\n",
       "      Health and beauty       13906.91       266\n",
       "      Home and lifestyle      11842.27       205\n",
       "      Sports and travel       13152.01       226\n",
       "3     Electronic accessories  17279.37       325\n",
       "      Fashion accessories     15191.35       271\n",
       "      Food and beverages      15784.72       278\n",
       "      Health and beauty       17341.25       334\n",
       "      Home and lifestyle      19935.99       364\n",
       "      Sports and travel       18710.66       319"
      ]
     },
     "execution_count": 168,
     "metadata": {},
     "output_type": "execute_result"
    }
   ],
   "source": [
    "result1"
   ]
  },
  {
   "cell_type": "code",
   "execution_count": 156,
   "id": "a0a10565",
   "metadata": {},
   "outputs": [],
   "source": [
    "grouped_df_month_b = df.groupby(['Month','Gender'])"
   ]
  },
  {
   "cell_type": "code",
   "execution_count": 169,
   "id": "a730380f",
   "metadata": {},
   "outputs": [],
   "source": [
    "c = grouped_df_month_b['Revenue'].sum()\n",
    "d = grouped_df_month_b['Quantity'].sum()\n",
    "result2 = pd.concat([c, d], axis=1)"
   ]
  },
  {
   "cell_type": "code",
   "execution_count": 170,
   "id": "e48ec3f2",
   "metadata": {},
   "outputs": [
    {
     "data": {
      "text/html": [
       "<div>\n",
       "<style scoped>\n",
       "    .dataframe tbody tr th:only-of-type {\n",
       "        vertical-align: middle;\n",
       "    }\n",
       "\n",
       "    .dataframe tbody tr th {\n",
       "        vertical-align: top;\n",
       "    }\n",
       "\n",
       "    .dataframe thead th {\n",
       "        text-align: right;\n",
       "    }\n",
       "</style>\n",
       "<table border=\"1\" class=\"dataframe\">\n",
       "  <thead>\n",
       "    <tr style=\"text-align: right;\">\n",
       "      <th></th>\n",
       "      <th></th>\n",
       "      <th>Revenue</th>\n",
       "      <th>Quantity</th>\n",
       "    </tr>\n",
       "    <tr>\n",
       "      <th>Month</th>\n",
       "      <th>Gender</th>\n",
       "      <th></th>\n",
       "      <th></th>\n",
       "    </tr>\n",
       "  </thead>\n",
       "  <tbody>\n",
       "    <tr>\n",
       "      <th rowspan=\"2\" valign=\"top\">1</th>\n",
       "      <th>Female</th>\n",
       "      <td>56322.84</td>\n",
       "      <td>1019</td>\n",
       "    </tr>\n",
       "    <tr>\n",
       "      <th>Male</th>\n",
       "      <td>54431.32</td>\n",
       "      <td>946</td>\n",
       "    </tr>\n",
       "    <tr>\n",
       "      <th rowspan=\"2\" valign=\"top\">2</th>\n",
       "      <th>Female</th>\n",
       "      <td>53652.91</td>\n",
       "      <td>951</td>\n",
       "    </tr>\n",
       "    <tr>\n",
       "      <th>Male</th>\n",
       "      <td>38936.97</td>\n",
       "      <td>703</td>\n",
       "    </tr>\n",
       "    <tr>\n",
       "      <th rowspan=\"2\" valign=\"top\">3</th>\n",
       "      <th>Female</th>\n",
       "      <td>49912.75</td>\n",
       "      <td>899</td>\n",
       "    </tr>\n",
       "    <tr>\n",
       "      <th>Male</th>\n",
       "      <td>54330.59</td>\n",
       "      <td>992</td>\n",
       "    </tr>\n",
       "  </tbody>\n",
       "</table>\n",
       "</div>"
      ],
      "text/plain": [
       "               Revenue  Quantity\n",
       "Month Gender                    \n",
       "1     Female  56322.84      1019\n",
       "      Male    54431.32       946\n",
       "2     Female  53652.91       951\n",
       "      Male    38936.97       703\n",
       "3     Female  49912.75       899\n",
       "      Male    54330.59       992"
      ]
     },
     "execution_count": 170,
     "metadata": {},
     "output_type": "execute_result"
    }
   ],
   "source": [
    "result2"
   ]
  },
  {
   "cell_type": "code",
   "execution_count": 161,
   "id": "c4967b4d",
   "metadata": {},
   "outputs": [],
   "source": [
    "grouped_df_month_c = df.groupby(['Month','Payment'])"
   ]
  },
  {
   "cell_type": "code",
   "execution_count": 172,
   "id": "8bea590a",
   "metadata": {},
   "outputs": [],
   "source": [
    "e = grouped_df_month_c['Revenue'].sum()\n",
    "f = grouped_df_month_c['Quantity'].sum()\n",
    "result3 = pd.concat([e, f], axis=1)"
   ]
  },
  {
   "cell_type": "code",
   "execution_count": 173,
   "id": "bca0804a",
   "metadata": {},
   "outputs": [
    {
     "data": {
      "text/html": [
       "<div>\n",
       "<style scoped>\n",
       "    .dataframe tbody tr th:only-of-type {\n",
       "        vertical-align: middle;\n",
       "    }\n",
       "\n",
       "    .dataframe tbody tr th {\n",
       "        vertical-align: top;\n",
       "    }\n",
       "\n",
       "    .dataframe thead th {\n",
       "        text-align: right;\n",
       "    }\n",
       "</style>\n",
       "<table border=\"1\" class=\"dataframe\">\n",
       "  <thead>\n",
       "    <tr style=\"text-align: right;\">\n",
       "      <th></th>\n",
       "      <th></th>\n",
       "      <th>Revenue</th>\n",
       "      <th>Quantity</th>\n",
       "    </tr>\n",
       "    <tr>\n",
       "      <th>Month</th>\n",
       "      <th>Payment</th>\n",
       "      <th></th>\n",
       "      <th></th>\n",
       "    </tr>\n",
       "  </thead>\n",
       "  <tbody>\n",
       "    <tr>\n",
       "      <th rowspan=\"3\" valign=\"top\">1</th>\n",
       "      <th>Cash</th>\n",
       "      <td>39781.03</td>\n",
       "      <td>708</td>\n",
       "    </tr>\n",
       "    <tr>\n",
       "      <th>Credit card</th>\n",
       "      <td>36425.31</td>\n",
       "      <td>622</td>\n",
       "    </tr>\n",
       "    <tr>\n",
       "      <th>Ewallet</th>\n",
       "      <td>34547.82</td>\n",
       "      <td>635</td>\n",
       "    </tr>\n",
       "    <tr>\n",
       "      <th rowspan=\"3\" valign=\"top\">2</th>\n",
       "      <th>Cash</th>\n",
       "      <td>34044.13</td>\n",
       "      <td>596</td>\n",
       "    </tr>\n",
       "    <tr>\n",
       "      <th>Credit card</th>\n",
       "      <td>29866.69</td>\n",
       "      <td>505</td>\n",
       "    </tr>\n",
       "    <tr>\n",
       "      <th>Ewallet</th>\n",
       "      <td>28679.06</td>\n",
       "      <td>553</td>\n",
       "    </tr>\n",
       "    <tr>\n",
       "      <th rowspan=\"3\" valign=\"top\">3</th>\n",
       "      <th>Cash</th>\n",
       "      <td>33038.24</td>\n",
       "      <td>592</td>\n",
       "    </tr>\n",
       "    <tr>\n",
       "      <th>Credit card</th>\n",
       "      <td>29676.64</td>\n",
       "      <td>595</td>\n",
       "    </tr>\n",
       "    <tr>\n",
       "      <th>Ewallet</th>\n",
       "      <td>41528.46</td>\n",
       "      <td>704</td>\n",
       "    </tr>\n",
       "  </tbody>\n",
       "</table>\n",
       "</div>"
      ],
      "text/plain": [
       "                    Revenue  Quantity\n",
       "Month Payment                        \n",
       "1     Cash         39781.03       708\n",
       "      Credit card  36425.31       622\n",
       "      Ewallet      34547.82       635\n",
       "2     Cash         34044.13       596\n",
       "      Credit card  29866.69       505\n",
       "      Ewallet      28679.06       553\n",
       "3     Cash         33038.24       592\n",
       "      Credit card  29676.64       595\n",
       "      Ewallet      41528.46       704"
      ]
     },
     "execution_count": 173,
     "metadata": {},
     "output_type": "execute_result"
    }
   ],
   "source": [
    "result3"
   ]
  },
  {
   "cell_type": "code",
   "execution_count": 187,
   "id": "a38b1e9b",
   "metadata": {},
   "outputs": [
    {
     "data": {
      "text/plain": [
       "Product line\n",
       "Electronic accessories    51750.03\n",
       "Fashion accessories       51719.90\n",
       "Food and beverages        53471.28\n",
       "Health and beauty         46851.18\n",
       "Home and lifestyle        51297.06\n",
       "Sports and travel         52497.93\n",
       "Name: Revenue, dtype: float64"
      ]
     },
     "execution_count": 187,
     "metadata": {},
     "output_type": "execute_result"
    }
   ],
   "source": [
    "df.groupby(['Product line'])['Revenue'].sum()"
   ]
  },
  {
   "cell_type": "code",
   "execution_count": 212,
   "id": "0f182915",
   "metadata": {},
   "outputs": [
    {
     "data": {
      "image/png": "[encoded data removed]",
      "text/plain": [
       "<Figure size 1400x1000 with 1 Axes>"
      ]
     },
     "metadata": {},
     "output_type": "display_data"
    }
   ],
   "source": [
    "city_gender_grouped = df.groupby(['Product line', 'Gender']).agg({\n",
    "    'Revenue': 'sum',\n",
    "    'Quantity': 'sum',\n",
    "    'Rating': 'mean'\n",
    "}).reset_index()\n",
    "\n",
    "# Create a bar plot with total revenue on the y-axis\n",
    "plt.figure(figsize=(14, 10))\n",
    "sns.barplot(x='Product line', y='Revenue', hue='Gender', data=city_gender_grouped)\n",
    "plt.title('Total Revenue by City and Gender')\n",
    "plt.xlabel('Product line')\n",
    "plt.ylabel('Total Revenue')\n",
    "plt.legend(title='Gender')\n",
    "plt.show()"
   ]
  },
  {
   "cell_type": "code",
   "execution_count": 210,
   "id": "2b6aa8d9",
   "metadata": {},
   "outputs": [
    {
     "data": {
      "image/png": "[encoded data removed]",
      "text/plain": [
       "<Figure size 1400x1000 with 1 Axes>"
      ]
     },
     "metadata": {},
     "output_type": "display_data"
    }
   ],
   "source": [
    "city_gender_grouped = df.groupby(['City', 'Product line']).agg({\n",
    "    'Revenue': 'sum',\n",
    "    'Quantity': 'sum',\n",
    "    'Rating': 'mean'\n",
    "}).reset_index()\n",
    "\n",
    "# Create a bar plot with total revenue on the y-axis\n",
    "plt.figure(figsize=(14, 10))\n",
    "sns.barplot(x='City', y='Revenue', hue='Product line', data=city_gender_grouped)\n",
    "plt.title('Total Revenue by City and Gender')\n",
    "plt.xlabel('City')\n",
    "plt.ylabel('Total Revenue')\n",
    "plt.legend(title='Gender')\n",
    "plt.show()"
   ]
  },
  {
   "cell_type": "markdown",
   "id": "6104b7ef",
   "metadata": {},
   "source": [
    "# Health and beauty sales is low in Yangon city, improvement in advertisement of product of health and beauty can be improved"
   ]
  }
 ],
 "metadata": {
  "kernelspec": {
   "display_name": "Python 3 (ipykernel)",
   "language": "python",
   "name": "python3"
  },
  "language_info": {
   "codemirror_mode": {
    "name": "ipython",
    "version": 3
   },
   "file_extension": ".py",
   "mimetype": "text/x-python",
   "name": "python",
   "nbconvert_exporter": "python",
   "pygments_lexer": "ipython3",
   "version": "3.11.7"
  }
 },
 "nbformat": 4,
 "nbformat_minor": 5
}
